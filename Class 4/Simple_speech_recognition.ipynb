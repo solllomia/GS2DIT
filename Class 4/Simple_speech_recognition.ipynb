{
  "cells": [
    {
      "cell_type": "markdown",
      "metadata": {
        "id": "view-in-github",
        "colab_type": "text"
      },
      "source": [
        "<a href=\"https://colab.research.google.com/github/solllomia/GS2DIT/blob/main/Class%204/Simple_speech_recognition.ipynb\" target=\"_parent\"><img src=\"https://colab.research.google.com/assets/colab-badge.svg\" alt=\"Open In Colab\"/></a>"
      ]
    },
    {
      "cell_type": "markdown",
      "source": [
        "Code source: https://colab.research.google.com/github/tensorflow/docs/blob/master/site/en/tutorials/audio/simple_audio.ipynb#scrollTo=wTAg4vsn3oEb"
      ],
      "metadata": {
        "id": "B81jKekEobND"
      }
    },
    {
      "cell_type": "markdown",
      "metadata": {
        "id": "fluF3_oOgkWF"
      },
      "source": [
        "##### Copyright 2020 The TensorFlow Authors."
      ]
    },
    {
      "cell_type": "code",
      "execution_count": 1,
      "metadata": {
        "cellView": "form",
        "id": "AJs7HHFmg1M9"
      },
      "outputs": [],
      "source": [
        "#@title Licensed under the Apache License, Version 2.0 (the \"License\");\n",
        "# you may not use this file except in compliance with the License.\n",
        "# You may obtain a copy of the License at\n",
        "#\n",
        "# https://www.apache.org/licenses/LICENSE-2.0\n",
        "#\n",
        "# Unless required by applicable law or agreed to in writing, software\n",
        "# distributed under the License is distributed on an \"AS IS\" BASIS,\n",
        "# WITHOUT WARRANTIES OR CONDITIONS OF ANY KIND, either express or implied.\n",
        "# See the License for the specific language governing permissions and\n",
        "# limitations under the License."
      ]
    },
    {
      "cell_type": "markdown",
      "metadata": {
        "id": "jYysdyb-CaWM"
      },
      "source": [
        "# Simple audio recognition: Recognizing keywords"
      ]
    },
    {
      "cell_type": "markdown",
      "metadata": {
        "id": "CNbqmZy0gbyE"
      },
      "source": [
        "<table class=\"tfo-notebook-buttons\" align=\"left\">\n",
        "  <td>\n",
        "    <a target=\"_blank\" href=\"https://colab.research.google.com/drive/1Ga0X5AwxcpYIH55vgMxBawa9_tjW7KIL#scrollTo=CNbqmZy0gbyE\">\n",
        "    <img src=\"https://www.tensorflow.org/images/colab_logo_32px.png\" />\n",
        "    Run in Google Colab</a>\n",
        "  </td>\n",
        "</table>"
      ]
    },
    {
      "cell_type": "markdown",
      "metadata": {
        "id": "SPfDNFlb66XF"
      },
      "source": [
        "This tutorial demonstrates how to preprocess audio files in the WAV format and build and train a basic [automatic speech recognition](https://en.wikipedia.org/wiki/Speech_recognition) (ASR) model for recognizing ten different words. You will use a portion of the [Speech Commands dataset](https://www.tensorflow.org/datasets/catalog/speech_commands) ([Warden, 2018](https://arxiv.org/abs/1804.03209)), which contains short (one-second or less) audio clips of commands, such as \"down\", \"go\", \"left\", \"no\", \"right\", \"stop\", \"up\" and \"yes\"."
      ]
    },
    {
      "cell_type": "markdown",
      "metadata": {
        "id": "Go9C3uLL8Izc"
      },
      "source": [
        "## Setup\n",
        "\n",
        "Download and install necessary dependencies"
      ]
    },
    {
      "cell_type": "code",
      "source": [
        "!pip install tensorflow==2.10 tensorflow_datasets\n",
        "!apt install --allow-change-held-packages libcudnn8=8.1.0.77-1+cuda11.2"
      ],
      "metadata": {
        "id": "2tuvqtpIzKXK",
        "outputId": "5a40359f-6141-4b97-9481-6701c6afbbd9",
        "colab": {
          "base_uri": "https://localhost:8080/",
          "height": 1000
        }
      },
      "execution_count": 2,
      "outputs": [
        {
          "output_type": "stream",
          "name": "stdout",
          "text": [
            "Looking in indexes: https://pypi.org/simple, https://us-python.pkg.dev/colab-wheels/public/simple/\n",
            "Collecting tensorflow==2.10\n",
            "  Downloading tensorflow-2.10.0-cp39-cp39-manylinux_2_17_x86_64.manylinux2014_x86_64.whl (578.1 MB)\n",
            "\u001b[2K     \u001b[90m━━━━━━━━━━━━━━━━━━━━━━━━━━━━━━━━━━━━━━━\u001b[0m \u001b[32m578.1/578.1 MB\u001b[0m \u001b[31m2.1 MB/s\u001b[0m eta \u001b[36m0:00:00\u001b[0m\n",
            "\u001b[?25hRequirement already satisfied: tensorflow_datasets in /usr/local/lib/python3.9/dist-packages (4.8.3)\n",
            "Collecting protobuf<3.20,>=3.9.2\n",
            "  Downloading protobuf-3.19.6-cp39-cp39-manylinux_2_17_x86_64.manylinux2014_x86_64.whl (1.1 MB)\n",
            "\u001b[2K     \u001b[90m━━━━━━━━━━━━━━━━━━━━━━━━━━━━━━━━━━━━━━━━\u001b[0m \u001b[32m1.1/1.1 MB\u001b[0m \u001b[31m31.6 MB/s\u001b[0m eta \u001b[36m0:00:00\u001b[0m\n",
            "\u001b[?25hRequirement already satisfied: h5py>=2.9.0 in /usr/local/lib/python3.9/dist-packages (from tensorflow==2.10) (3.8.0)\n",
            "Requirement already satisfied: tensorflow-io-gcs-filesystem>=0.23.1 in /usr/local/lib/python3.9/dist-packages (from tensorflow==2.10) (0.32.0)\n",
            "Requirement already satisfied: setuptools in /usr/local/lib/python3.9/dist-packages (from tensorflow==2.10) (67.6.1)\n",
            "Collecting tensorboard<2.11,>=2.10\n",
            "  Downloading tensorboard-2.10.1-py3-none-any.whl (5.9 MB)\n",
            "\u001b[2K     \u001b[90m━━━━━━━━━━━━━━━━━━━━━━━━━━━━━━━━━━━━━━━━\u001b[0m \u001b[32m5.9/5.9 MB\u001b[0m \u001b[31m32.6 MB/s\u001b[0m eta \u001b[36m0:00:00\u001b[0m\n",
            "\u001b[?25hCollecting keras<2.11,>=2.10.0\n",
            "  Downloading keras-2.10.0-py2.py3-none-any.whl (1.7 MB)\n",
            "\u001b[2K     \u001b[90m━━━━━━━━━━━━━━━━━━━━━━━━━━━━━━━━━━━━━━━━\u001b[0m \u001b[32m1.7/1.7 MB\u001b[0m \u001b[31m36.5 MB/s\u001b[0m eta \u001b[36m0:00:00\u001b[0m\n",
            "\u001b[?25hRequirement already satisfied: wrapt>=1.11.0 in /usr/local/lib/python3.9/dist-packages (from tensorflow==2.10) (1.14.1)\n",
            "Requirement already satisfied: grpcio<2.0,>=1.24.3 in /usr/local/lib/python3.9/dist-packages (from tensorflow==2.10) (1.53.0)\n",
            "Collecting tensorflow-estimator<2.11,>=2.10.0\n",
            "  Downloading tensorflow_estimator-2.10.0-py2.py3-none-any.whl (438 kB)\n",
            "\u001b[2K     \u001b[90m━━━━━━━━━━━━━━━━━━━━━━━━━━━━━━━━━━━━━━\u001b[0m \u001b[32m438.7/438.7 KB\u001b[0m \u001b[31m30.4 MB/s\u001b[0m eta \u001b[36m0:00:00\u001b[0m\n",
            "\u001b[?25hCollecting keras-preprocessing>=1.1.1\n",
            "  Downloading Keras_Preprocessing-1.1.2-py2.py3-none-any.whl (42 kB)\n",
            "\u001b[2K     \u001b[90m━━━━━━━━━━━━━━━━━━━━━━━━━━━━━━━━━━━━━━━━\u001b[0m \u001b[32m42.6/42.6 KB\u001b[0m \u001b[31m2.4 MB/s\u001b[0m eta \u001b[36m0:00:00\u001b[0m\n",
            "\u001b[?25hRequirement already satisfied: numpy>=1.20 in /usr/local/lib/python3.9/dist-packages (from tensorflow==2.10) (1.22.4)\n",
            "Requirement already satisfied: termcolor>=1.1.0 in /usr/local/lib/python3.9/dist-packages (from tensorflow==2.10) (2.2.0)\n",
            "Requirement already satisfied: flatbuffers>=2.0 in /usr/local/lib/python3.9/dist-packages (from tensorflow==2.10) (23.3.3)\n",
            "Requirement already satisfied: six>=1.12.0 in /usr/local/lib/python3.9/dist-packages (from tensorflow==2.10) (1.16.0)\n",
            "Requirement already satisfied: libclang>=13.0.0 in /usr/local/lib/python3.9/dist-packages (from tensorflow==2.10) (16.0.0)\n",
            "Requirement already satisfied: astunparse>=1.6.0 in /usr/local/lib/python3.9/dist-packages (from tensorflow==2.10) (1.6.3)\n",
            "Requirement already satisfied: google-pasta>=0.1.1 in /usr/local/lib/python3.9/dist-packages (from tensorflow==2.10) (0.2.0)\n",
            "Requirement already satisfied: typing-extensions>=3.6.6 in /usr/local/lib/python3.9/dist-packages (from tensorflow==2.10) (4.5.0)\n",
            "Requirement already satisfied: opt-einsum>=2.3.2 in /usr/local/lib/python3.9/dist-packages (from tensorflow==2.10) (3.3.0)\n",
            "Requirement already satisfied: absl-py>=1.0.0 in /usr/local/lib/python3.9/dist-packages (from tensorflow==2.10) (1.4.0)\n",
            "Requirement already satisfied: gast<=0.4.0,>=0.2.1 in /usr/local/lib/python3.9/dist-packages (from tensorflow==2.10) (0.4.0)\n",
            "Requirement already satisfied: packaging in /usr/local/lib/python3.9/dist-packages (from tensorflow==2.10) (23.0)\n",
            "Requirement already satisfied: click in /usr/local/lib/python3.9/dist-packages (from tensorflow_datasets) (8.1.3)\n",
            "Requirement already satisfied: etils[enp,epath]>=0.9.0 in /usr/local/lib/python3.9/dist-packages (from tensorflow_datasets) (1.1.1)\n",
            "Requirement already satisfied: psutil in /usr/local/lib/python3.9/dist-packages (from tensorflow_datasets) (5.9.4)\n",
            "Requirement already satisfied: toml in /usr/local/lib/python3.9/dist-packages (from tensorflow_datasets) (0.10.2)\n",
            "Requirement already satisfied: promise in /usr/local/lib/python3.9/dist-packages (from tensorflow_datasets) (2.3)\n",
            "Requirement already satisfied: tensorflow-metadata in /usr/local/lib/python3.9/dist-packages (from tensorflow_datasets) (1.12.0)\n",
            "Requirement already satisfied: requests>=2.19.0 in /usr/local/lib/python3.9/dist-packages (from tensorflow_datasets) (2.27.1)\n",
            "Requirement already satisfied: dm-tree in /usr/local/lib/python3.9/dist-packages (from tensorflow_datasets) (0.1.8)\n",
            "Requirement already satisfied: tqdm in /usr/local/lib/python3.9/dist-packages (from tensorflow_datasets) (4.65.0)\n",
            "Requirement already satisfied: wheel<1.0,>=0.23.0 in /usr/local/lib/python3.9/dist-packages (from astunparse>=1.6.0->tensorflow==2.10) (0.40.0)\n",
            "Requirement already satisfied: zipp in /usr/local/lib/python3.9/dist-packages (from etils[enp,epath]>=0.9.0->tensorflow_datasets) (3.15.0)\n",
            "Requirement already satisfied: importlib_resources in /usr/local/lib/python3.9/dist-packages (from etils[enp,epath]>=0.9.0->tensorflow_datasets) (5.12.0)\n",
            "Requirement already satisfied: idna<4,>=2.5 in /usr/local/lib/python3.9/dist-packages (from requests>=2.19.0->tensorflow_datasets) (3.4)\n",
            "Requirement already satisfied: charset-normalizer~=2.0.0 in /usr/local/lib/python3.9/dist-packages (from requests>=2.19.0->tensorflow_datasets) (2.0.12)\n",
            "Requirement already satisfied: urllib3<1.27,>=1.21.1 in /usr/local/lib/python3.9/dist-packages (from requests>=2.19.0->tensorflow_datasets) (1.26.15)\n",
            "Requirement already satisfied: certifi>=2017.4.17 in /usr/local/lib/python3.9/dist-packages (from requests>=2.19.0->tensorflow_datasets) (2022.12.7)\n",
            "Collecting tensorboard-data-server<0.7.0,>=0.6.0\n",
            "  Downloading tensorboard_data_server-0.6.1-py3-none-manylinux2010_x86_64.whl (4.9 MB)\n",
            "\u001b[2K     \u001b[90m━━━━━━━━━━━━━━━━━━━━━━━━━━━━━━━━━━━━━━━━\u001b[0m \u001b[32m4.9/4.9 MB\u001b[0m \u001b[31m67.2 MB/s\u001b[0m eta \u001b[36m0:00:00\u001b[0m\n",
            "\u001b[?25hRequirement already satisfied: google-auth-oauthlib<0.5,>=0.4.1 in /usr/local/lib/python3.9/dist-packages (from tensorboard<2.11,>=2.10->tensorflow==2.10) (0.4.6)\n",
            "Requirement already satisfied: werkzeug>=1.0.1 in /usr/local/lib/python3.9/dist-packages (from tensorboard<2.11,>=2.10->tensorflow==2.10) (2.2.3)\n",
            "Requirement already satisfied: tensorboard-plugin-wit>=1.6.0 in /usr/local/lib/python3.9/dist-packages (from tensorboard<2.11,>=2.10->tensorflow==2.10) (1.8.1)\n",
            "Requirement already satisfied: google-auth<3,>=1.6.3 in /usr/local/lib/python3.9/dist-packages (from tensorboard<2.11,>=2.10->tensorflow==2.10) (2.17.1)\n",
            "Requirement already satisfied: markdown>=2.6.8 in /usr/local/lib/python3.9/dist-packages (from tensorboard<2.11,>=2.10->tensorflow==2.10) (3.4.3)\n",
            "Requirement already satisfied: googleapis-common-protos<2,>=1.52.0 in /usr/local/lib/python3.9/dist-packages (from tensorflow-metadata->tensorflow_datasets) (1.59.0)\n",
            "Requirement already satisfied: cachetools<6.0,>=2.0.0 in /usr/local/lib/python3.9/dist-packages (from google-auth<3,>=1.6.3->tensorboard<2.11,>=2.10->tensorflow==2.10) (5.3.0)\n",
            "Requirement already satisfied: pyasn1-modules>=0.2.1 in /usr/local/lib/python3.9/dist-packages (from google-auth<3,>=1.6.3->tensorboard<2.11,>=2.10->tensorflow==2.10) (0.2.8)\n",
            "Requirement already satisfied: rsa<5,>=3.1.4 in /usr/local/lib/python3.9/dist-packages (from google-auth<3,>=1.6.3->tensorboard<2.11,>=2.10->tensorflow==2.10) (4.9)\n",
            "Requirement already satisfied: requests-oauthlib>=0.7.0 in /usr/local/lib/python3.9/dist-packages (from google-auth-oauthlib<0.5,>=0.4.1->tensorboard<2.11,>=2.10->tensorflow==2.10) (1.3.1)\n",
            "Requirement already satisfied: importlib-metadata>=4.4 in /usr/local/lib/python3.9/dist-packages (from markdown>=2.6.8->tensorboard<2.11,>=2.10->tensorflow==2.10) (6.1.0)\n",
            "Requirement already satisfied: MarkupSafe>=2.1.1 in /usr/local/lib/python3.9/dist-packages (from werkzeug>=1.0.1->tensorboard<2.11,>=2.10->tensorflow==2.10) (2.1.2)\n",
            "Requirement already satisfied: pyasn1<0.5.0,>=0.4.6 in /usr/local/lib/python3.9/dist-packages (from pyasn1-modules>=0.2.1->google-auth<3,>=1.6.3->tensorboard<2.11,>=2.10->tensorflow==2.10) (0.4.8)\n",
            "Requirement already satisfied: oauthlib>=3.0.0 in /usr/local/lib/python3.9/dist-packages (from requests-oauthlib>=0.7.0->google-auth-oauthlib<0.5,>=0.4.1->tensorboard<2.11,>=2.10->tensorflow==2.10) (3.2.2)\n",
            "Installing collected packages: keras, tensorflow-estimator, tensorboard-data-server, protobuf, keras-preprocessing, tensorboard, tensorflow\n",
            "  Attempting uninstall: keras\n",
            "    Found existing installation: keras 2.12.0\n",
            "    Uninstalling keras-2.12.0:\n",
            "      Successfully uninstalled keras-2.12.0\n",
            "  Attempting uninstall: tensorflow-estimator\n",
            "    Found existing installation: tensorflow-estimator 2.12.0\n",
            "    Uninstalling tensorflow-estimator-2.12.0:\n",
            "      Successfully uninstalled tensorflow-estimator-2.12.0\n",
            "  Attempting uninstall: tensorboard-data-server\n",
            "    Found existing installation: tensorboard-data-server 0.7.0\n",
            "    Uninstalling tensorboard-data-server-0.7.0:\n",
            "      Successfully uninstalled tensorboard-data-server-0.7.0\n",
            "  Attempting uninstall: protobuf\n",
            "    Found existing installation: protobuf 3.20.3\n",
            "    Uninstalling protobuf-3.20.3:\n",
            "      Successfully uninstalled protobuf-3.20.3\n",
            "  Attempting uninstall: tensorboard\n",
            "    Found existing installation: tensorboard 2.12.0\n",
            "    Uninstalling tensorboard-2.12.0:\n",
            "      Successfully uninstalled tensorboard-2.12.0\n",
            "  Attempting uninstall: tensorflow\n",
            "    Found existing installation: tensorflow 2.12.0\n",
            "    Uninstalling tensorflow-2.12.0:\n",
            "      Successfully uninstalled tensorflow-2.12.0\n",
            "Successfully installed keras-2.10.0 keras-preprocessing-1.1.2 protobuf-3.19.6 tensorboard-2.10.1 tensorboard-data-server-0.6.1 tensorflow-2.10.0 tensorflow-estimator-2.10.0\n"
          ]
        },
        {
          "output_type": "display_data",
          "data": {
            "application/vnd.colab-display-data+json": {
              "pip_warning": {
                "packages": [
                  "google"
                ]
              }
            }
          },
          "metadata": {}
        },
        {
          "output_type": "stream",
          "name": "stdout",
          "text": [
            "Reading package lists... Done\n",
            "Building dependency tree       \n",
            "Reading state information... Done\n",
            "The following package was automatically installed and is no longer required:\n",
            "  libnvidia-common-525\n",
            "Use 'apt autoremove' to remove it.\n",
            "The following packages will be REMOVED:\n",
            "  libcudnn8-dev\n",
            "The following held packages will be changed:\n",
            "  libcudnn8\n",
            "The following packages will be DOWNGRADED:\n",
            "  libcudnn8\n",
            "0 upgraded, 0 newly installed, 1 downgraded, 1 to remove and 21 not upgraded.\n",
            "Need to get 430 MB of archives.\n",
            "After this operation, 1,153 MB disk space will be freed.\n",
            "Get:1 https://developer.download.nvidia.com/compute/cuda/repos/ubuntu2004/x86_64  libcudnn8 8.1.0.77-1+cuda11.2 [430 MB]\n",
            "Fetched 430 MB in 8s (56.7 MB/s)\n",
            "(Reading database ... 128293 files and directories currently installed.)\n",
            "Removing libcudnn8-dev (8.7.0.84-1+cuda11.8) ...\n",
            "update-alternatives: removing manually selected alternative - switching libcudnn to auto mode\n",
            "\u001b[1mdpkg:\u001b[0m \u001b[1;33mwarning:\u001b[0m downgrading libcudnn8 from 8.7.0.84-1+cuda11.8 to 8.1.0.77-1+cuda11.2\n",
            "(Reading database ... 128260 files and directories currently installed.)\n",
            "Preparing to unpack .../libcudnn8_8.1.0.77-1+cuda11.2_amd64.deb ...\n",
            "Unpacking libcudnn8 (8.1.0.77-1+cuda11.2) over (8.7.0.84-1+cuda11.8) ...\n",
            "Setting up libcudnn8 (8.1.0.77-1+cuda11.2) ...\n"
          ]
        }
      ]
    },
    {
      "cell_type": "code",
      "execution_count": 3,
      "metadata": {
        "id": "dzLKpmZICaWN"
      },
      "outputs": [],
      "source": [
        "import os\n",
        "import pathlib\n",
        "\n",
        "import matplotlib.pyplot as plt\n",
        "import numpy as np\n",
        "import seaborn as sns\n",
        "import tensorflow as tf\n",
        "\n",
        "from tensorflow.keras import layers\n",
        "from tensorflow.keras import models\n",
        "from IPython import display\n",
        "\n",
        "# Set the seed value for experiment reproducibility.\n",
        "seed = 42\n",
        "tf.random.set_seed(seed)\n",
        "np.random.seed(seed)"
      ]
    },
    {
      "cell_type": "markdown",
      "metadata": {
        "id": "yR0EdgrLCaWR"
      },
      "source": [
        "## Import the mini Speech Commands dataset\n",
        "\n",
        "To save time with data loading, you will be working with a smaller version of the Speech Commands dataset.\n",
        "Download and extract the `mini_speech_commands.zip` file containing the smaller Speech Commands datasets with `tf.keras.utils.get_file`:"
      ]
    },
    {
      "cell_type": "code",
      "execution_count": 4,
      "metadata": {
        "id": "2-rayb7-3Y0I",
        "outputId": "a4145656-236b-46f0-b5ef-7725b54ef8ce",
        "colab": {
          "base_uri": "https://localhost:8080/"
        }
      },
      "outputs": [
        {
          "output_type": "stream",
          "name": "stdout",
          "text": [
            "Downloading data from http://storage.googleapis.com/download.tensorflow.org/data/mini_speech_commands.zip\n",
            "182082353/182082353 [==============================] - 9s 0us/step\n"
          ]
        }
      ],
      "source": [
        "DATASET_PATH = 'data/mini_speech_commands'\n",
        "\n",
        "data_dir = pathlib.Path(DATASET_PATH)\n",
        "if not data_dir.exists():\n",
        "  tf.keras.utils.get_file(\n",
        "      'mini_speech_commands.zip',\n",
        "      origin=\"http://storage.googleapis.com/download.tensorflow.org/data/mini_speech_commands.zip\",\n",
        "      extract=True,\n",
        "      cache_dir='.', cache_subdir='data')"
      ]
    },
    {
      "cell_type": "markdown",
      "metadata": {
        "id": "BgvFq3uYiS5G"
      },
      "source": [
        "The dataset's audio clips are stored in eight folders corresponding to each speech command: `no`, `yes`, `down`, `go`, `left`, `up`, `right`, and `stop`:"
      ]
    },
    {
      "cell_type": "code",
      "execution_count": 5,
      "metadata": {
        "id": "70IBxSKxA1N9",
        "outputId": "c517fc19-986f-49b9-e20c-869d720139d4",
        "colab": {
          "base_uri": "https://localhost:8080/"
        }
      },
      "outputs": [
        {
          "output_type": "stream",
          "name": "stdout",
          "text": [
            "Commands: ['stop' 'up' 'right' 'left' 'no' 'down' 'go' 'yes']\n"
          ]
        }
      ],
      "source": [
        "commands = np.array(tf.io.gfile.listdir(str(data_dir)))\n",
        "commands = commands[(commands != 'README.md') & (commands != '.DS_Store')]\n",
        "print('Commands:', commands)"
      ]
    },
    {
      "cell_type": "markdown",
      "metadata": {
        "id": "TZ7GJjDvHqtt"
      },
      "source": [
        "Now we split the data into train and test datasets.\n",
        "\n",
        "The audio clips are 1 second or less at 16kHz."
      ]
    },
    {
      "cell_type": "code",
      "execution_count": 6,
      "metadata": {
        "id": "mFM4c3aMC8Qv",
        "outputId": "f08f964f-c186-4b39-f22b-9581954532e0",
        "colab": {
          "base_uri": "https://localhost:8080/"
        }
      },
      "outputs": [
        {
          "output_type": "stream",
          "name": "stdout",
          "text": [
            "Found 8000 files belonging to 8 classes.\n",
            "Using 6400 files for training.\n",
            "Using 1600 files for validation.\n",
            "\n",
            "label names: ['down' 'go' 'left' 'no' 'right' 'stop' 'up' 'yes']\n"
          ]
        }
      ],
      "source": [
        "train_ds, val_ds = tf.keras.utils.audio_dataset_from_directory(\n",
        "    directory=data_dir,\n",
        "    batch_size=64,\n",
        "    validation_split=0.2,\n",
        "    seed=0,\n",
        "    output_sequence_length=16000,\n",
        "    subset='both')\n",
        "\n",
        "label_names = np.array(train_ds.class_names)\n",
        "print()\n",
        "print(\"label names:\", label_names)"
      ]
    },
    {
      "cell_type": "code",
      "execution_count": 7,
      "metadata": {
        "id": "Xl-tnniUIBlM"
      },
      "outputs": [],
      "source": [
        "def squeeze(audio, labels):\n",
        "  audio = tf.squeeze(audio, axis=-1)\n",
        "  return audio, labels\n",
        "\n",
        "train_ds = train_ds.map(squeeze, tf.data.AUTOTUNE)\n",
        "val_ds = val_ds.map(squeeze, tf.data.AUTOTUNE)"
      ]
    },
    {
      "cell_type": "markdown",
      "metadata": {
        "id": "DtsCSWZN5ILv"
      },
      "source": [
        "We have to split our calidation dataset into val and test set."
      ]
    },
    {
      "cell_type": "code",
      "execution_count": 8,
      "metadata": {
        "id": "u5UEGsqM5Gss"
      },
      "outputs": [],
      "source": [
        "test_ds = val_ds.shard(num_shards=2, index=0)\n",
        "val_ds = val_ds.shard(num_shards=2, index=1)"
      ]
    },
    {
      "cell_type": "code",
      "execution_count": 9,
      "metadata": {
        "id": "xIeoJcwJH5h9",
        "outputId": "896c15c3-9f37-4e22-bc16-5cfbbec74c60",
        "colab": {
          "base_uri": "https://localhost:8080/"
        }
      },
      "outputs": [
        {
          "output_type": "stream",
          "name": "stdout",
          "text": [
            "(64, 16000)\n",
            "(64,)\n"
          ]
        }
      ],
      "source": [
        "for example_audio, example_labels in train_ds.take(1):  \n",
        "  print(example_audio.shape)\n",
        "  print(example_labels.shape)"
      ]
    },
    {
      "cell_type": "markdown",
      "metadata": {
        "id": "voxGEwvuh2L7"
      },
      "source": [
        "Let's plot a few audio waveforms:"
      ]
    },
    {
      "cell_type": "markdown",
      "metadata": {
        "id": "EWXPphxm0B4m"
      },
      "source": [
        "## Convert waveforms to spectrograms\n",
        "\n",
        "The waveforms in the dataset are represented in the time domain. Next, you'll transform the waveforms from the time-domain signals into the time-frequency-domain signals by computing the [short-time Fourier transform (STFT)](https://en.wikipedia.org/wiki/Short-time_Fourier_transform) to convert the waveforms to as [spectrograms](https://en.wikipedia.org/wiki/Spectrogram), which show frequency changes over time and can be represented as 2D images."
      ]
    },
    {
      "cell_type": "code",
      "execution_count": 10,
      "metadata": {
        "id": "_4CK75DHz_OR"
      },
      "outputs": [],
      "source": [
        "def get_spectrogram(waveform):\n",
        "  # Convert the waveform to a spectrogram via a STFT.\n",
        "  spectrogram = tf.signal.stft(\n",
        "      waveform, frame_length=255, frame_step=128)\n",
        "  # Obtain the magnitude of the STFT.\n",
        "  spectrogram = tf.abs(spectrogram)\n",
        "  # Add a `channels` dimension, so that the spectrogram can be used\n",
        "  # as image-like input data with convolution layers (which expect\n",
        "  # shape (`batch_size`, `height`, `width`, `channels`).\n",
        "  spectrogram = spectrogram[..., tf.newaxis]\n",
        "  return spectrogram"
      ]
    },
    {
      "cell_type": "markdown",
      "metadata": {
        "id": "xnSuqyxJ1isF"
      },
      "source": [
        "Now, define a function for displaying a spectrogram:"
      ]
    },
    {
      "cell_type": "code",
      "execution_count": 11,
      "metadata": {
        "id": "e62jzb36-Jog"
      },
      "outputs": [],
      "source": [
        "#def plot_spectrogram(spectrogram, ax):\n",
        "#  if len(spectrogram.shape) > 2:\n",
        "#    assert len(spectrogram.shape) == 3\n",
        "#    spectrogram = np.squeeze(spectrogram, axis=-1)\n",
        "#  # Convert the frequencies to log scale and transpose, so that the time is\n",
        "#  # represented on the x-axis (columns).\n",
        "#  # Add an epsilon to avoid taking a log of zero.\n",
        "#  log_spec = np.log(spectrogram.T + np.finfo(float).eps)\n",
        "#  height = log_spec.shape[0]\n",
        "#  width = log_spec.shape[1]\n",
        "#  X = np.linspace(0, np.size(spectrogram), num=width, dtype=int)\n",
        "#  Y = range(height)\n",
        "#  ax.pcolormesh(X, Y, log_spec)"
      ]
    },
    {
      "cell_type": "markdown",
      "metadata": {
        "id": "GyYXjW07jCHA"
      },
      "source": [
        "Now, create spectrogramn datasets from the audio datasets:"
      ]
    },
    {
      "cell_type": "code",
      "execution_count": 12,
      "metadata": {
        "id": "mAD0LpkgqtQo"
      },
      "outputs": [],
      "source": [
        "def make_spec_ds(ds):\n",
        "  return ds.map(\n",
        "      map_func=lambda audio,label: (get_spectrogram(audio), label),\n",
        "      num_parallel_calls=tf.data.AUTOTUNE)"
      ]
    },
    {
      "cell_type": "code",
      "execution_count": 13,
      "metadata": {
        "id": "yEVb_oK0oBLQ"
      },
      "outputs": [],
      "source": [
        "train_spectrogram_ds = make_spec_ds(train_ds)\n",
        "val_spectrogram_ds = make_spec_ds(val_ds)\n",
        "test_spectrogram_ds = make_spec_ds(test_ds)"
      ]
    },
    {
      "cell_type": "code",
      "source": [
        "for example_spectrograms, example_spect_labels in train_spectrogram_ds.take(1):\n",
        "  break"
      ],
      "metadata": {
        "id": "Pp8S55hQuGgH"
      },
      "execution_count": 14,
      "outputs": []
    },
    {
      "cell_type": "markdown",
      "metadata": {
        "id": "z5KdY8IF8rkt"
      },
      "source": [
        "## Build and train the model"
      ]
    },
    {
      "cell_type": "code",
      "execution_count": 15,
      "metadata": {
        "id": "fdZ6M-F5_QzY"
      },
      "outputs": [],
      "source": [
        "train_spectrogram_ds = train_spectrogram_ds.cache().shuffle(10000).prefetch(tf.data.AUTOTUNE)\n",
        "val_spectrogram_ds = val_spectrogram_ds.cache().prefetch(tf.data.AUTOTUNE)\n",
        "test_spectrogram_ds = test_spectrogram_ds.cache().prefetch(tf.data.AUTOTUNE)"
      ]
    },
    {
      "cell_type": "markdown",
      "metadata": {
        "id": "rwHkKCQQb5oW"
      },
      "source": [
        "For the model, you'll use a simple convolutional neural network (CNN), since you have transformed the audio files into spectrogram images.\n",
        "\n",
        "Your `tf.keras.Sequential` model will use the following Keras preprocessing layers:\n",
        "\n",
        "- `tf.keras.layers.Resizing`: to downsample the input to enable the model to train faster.\n",
        "- `tf.keras.layers.Normalization`: to normalize each pixel in the image based on its mean and standard deviation."
      ]
    },
    {
      "cell_type": "code",
      "execution_count": 16,
      "metadata": {
        "id": "ALYz7PFCHblP",
        "outputId": "7ea956cc-8987-4b82-d58f-db87628601ac",
        "colab": {
          "base_uri": "https://localhost:8080/"
        }
      },
      "outputs": [
        {
          "output_type": "stream",
          "name": "stdout",
          "text": [
            "Input shape: (124, 129, 1)\n",
            "Model: \"sequential\"\n",
            "_________________________________________________________________\n",
            " Layer (type)                Output Shape              Param #   \n",
            "=================================================================\n",
            " resizing (Resizing)         (None, 32, 32, 1)         0         \n",
            "                                                                 \n",
            " normalization (Normalizatio  (None, 32, 32, 1)        3         \n",
            " n)                                                              \n",
            "                                                                 \n",
            " conv2d (Conv2D)             (None, 30, 30, 32)        320       \n",
            "                                                                 \n",
            " conv2d_1 (Conv2D)           (None, 28, 28, 64)        18496     \n",
            "                                                                 \n",
            " max_pooling2d (MaxPooling2D  (None, 14, 14, 64)       0         \n",
            " )                                                               \n",
            "                                                                 \n",
            " dropout (Dropout)           (None, 14, 14, 64)        0         \n",
            "                                                                 \n",
            " flatten (Flatten)           (None, 12544)             0         \n",
            "                                                                 \n",
            " dense (Dense)               (None, 128)               1605760   \n",
            "                                                                 \n",
            " dropout_1 (Dropout)         (None, 128)               0         \n",
            "                                                                 \n",
            " dense_1 (Dense)             (None, 8)                 1032      \n",
            "                                                                 \n",
            "=================================================================\n",
            "Total params: 1,625,611\n",
            "Trainable params: 1,625,608\n",
            "Non-trainable params: 3\n",
            "_________________________________________________________________\n"
          ]
        }
      ],
      "source": [
        "input_shape = example_spectrograms.shape[1:]\n",
        "print('Input shape:', input_shape)\n",
        "num_labels = len(label_names)\n",
        "\n",
        "# Instantiate the `tf.keras.layers.Normalization` layer.\n",
        "norm_layer = layers.Normalization()\n",
        "# Fit the state of the layer to the spectrograms\n",
        "# with `Normalization.adapt`.\n",
        "norm_layer.adapt(data=train_spectrogram_ds.map(map_func=lambda spec, label: spec))\n",
        "\n",
        "model = models.Sequential([\n",
        "    tf.keras.layers.Input(shape=input_shape),\n",
        "    # Downsample the input.\n",
        "    tf.keras.layers.Resizing(32, 32),\n",
        "    # Normalize.\n",
        "    norm_layer,\n",
        "    tf.keras.layers.Conv2D(32, 3, activation='relu'),\n",
        "    tf.keras.layers.Conv2D(64, 3, activation='relu'),\n",
        "    tf.keras.layers.MaxPooling2D(),\n",
        "    tf.keras.layers.Dropout(0.25),\n",
        "    tf.keras.layers.Flatten(),\n",
        "    tf.keras.layers.Dense(128, activation='relu'),\n",
        "    tf.keras.layers.Dropout(0.5),\n",
        "    tf.keras.layers.Dense(num_labels),\n",
        "])\n",
        "\n",
        "model.summary()"
      ]
    },
    {
      "cell_type": "markdown",
      "metadata": {
        "id": "de52e5afa2f3"
      },
      "source": [
        "Configure the Keras model with the Adam optimizer and the cross-entropy loss:"
      ]
    },
    {
      "cell_type": "code",
      "execution_count": 17,
      "metadata": {
        "id": "wFjj7-EmsTD-"
      },
      "outputs": [],
      "source": [
        "model.compile(\n",
        "    optimizer=tf.keras.optimizers.Adam(),\n",
        "    loss=tf.keras.losses.SparseCategoricalCrossentropy(from_logits=True),\n",
        "    metrics=['accuracy'],\n",
        ")"
      ]
    },
    {
      "cell_type": "markdown",
      "metadata": {
        "id": "f42b9e3a4705"
      },
      "source": [
        "Train the model over 10 epochs for demonstration purposes:"
      ]
    },
    {
      "cell_type": "code",
      "execution_count": 18,
      "metadata": {
        "id": "ttioPJVMcGtq",
        "outputId": "00a1eb05-ea9b-4adf-d439-bf313928178c",
        "colab": {
          "base_uri": "https://localhost:8080/"
        }
      },
      "outputs": [
        {
          "output_type": "stream",
          "name": "stdout",
          "text": [
            "Epoch 1/10\n",
            "100/100 [==============================] - 8s 22ms/step - loss: 1.7469 - accuracy: 0.3663 - val_loss: 1.3044 - val_accuracy: 0.5951\n",
            "Epoch 2/10\n",
            "100/100 [==============================] - 1s 8ms/step - loss: 1.1763 - accuracy: 0.5827 - val_loss: 0.9425 - val_accuracy: 0.6953\n",
            "Epoch 3/10\n",
            "100/100 [==============================] - 1s 8ms/step - loss: 0.8969 - accuracy: 0.6758 - val_loss: 0.7600 - val_accuracy: 0.7552\n",
            "Epoch 4/10\n",
            "100/100 [==============================] - 1s 8ms/step - loss: 0.7497 - accuracy: 0.7380 - val_loss: 0.6882 - val_accuracy: 0.7930\n",
            "Epoch 5/10\n",
            "100/100 [==============================] - 1s 8ms/step - loss: 0.6409 - accuracy: 0.7703 - val_loss: 0.6462 - val_accuracy: 0.7956\n",
            "Epoch 6/10\n",
            "100/100 [==============================] - 1s 8ms/step - loss: 0.5651 - accuracy: 0.7984 - val_loss: 0.5815 - val_accuracy: 0.8138\n",
            "Epoch 7/10\n",
            "100/100 [==============================] - 1s 8ms/step - loss: 0.5132 - accuracy: 0.8209 - val_loss: 0.5527 - val_accuracy: 0.8073\n",
            "Epoch 8/10\n",
            "100/100 [==============================] - 1s 8ms/step - loss: 0.4574 - accuracy: 0.8373 - val_loss: 0.5136 - val_accuracy: 0.8333\n",
            "Epoch 9/10\n",
            "100/100 [==============================] - 1s 8ms/step - loss: 0.4128 - accuracy: 0.8561 - val_loss: 0.5069 - val_accuracy: 0.8333\n",
            "Epoch 10/10\n",
            "100/100 [==============================] - 1s 9ms/step - loss: 0.3725 - accuracy: 0.8686 - val_loss: 0.4667 - val_accuracy: 0.8424\n"
          ]
        }
      ],
      "source": [
        "EPOCHS = 10\n",
        "history = model.fit(\n",
        "    train_spectrogram_ds,\n",
        "    validation_data=val_spectrogram_ds,\n",
        "    epochs=EPOCHS,\n",
        "    callbacks=tf.keras.callbacks.EarlyStopping(verbose=1, patience=2),\n",
        ")"
      ]
    },
    {
      "cell_type": "markdown",
      "metadata": {
        "id": "gjpCDeQ4mUfS"
      },
      "source": [
        "Let's plot the training and validation loss curves to check how your model has improved during training:"
      ]
    },
    {
      "cell_type": "code",
      "execution_count": 19,
      "metadata": {
        "id": "nzhipg3Gu2AY",
        "outputId": "0b46dfda-7e5e-402d-8ab3-3df0e6e34e1f",
        "colab": {
          "base_uri": "https://localhost:8080/",
          "height": 564
        }
      },
      "outputs": [
        {
          "output_type": "execute_result",
          "data": {
            "text/plain": [
              "Text(0, 0.5, 'Accuracy [%]')"
            ]
          },
          "metadata": {},
          "execution_count": 19
        },
        {
          "output_type": "display_data",
          "data": {
            "text/plain": [
              "<Figure size 1600x600 with 2 Axes>"
            ],
            "image/png": "[encoded data removed]"
          },
          "metadata": {}
        }
      ],
      "source": [
        "metrics = history.history\n",
        "plt.figure(figsize=(16,6))\n",
        "plt.subplot(1,2,1)\n",
        "plt.plot(history.epoch, metrics['loss'], metrics['val_loss'])\n",
        "plt.legend(['loss', 'val_loss'])\n",
        "plt.ylim([0, max(plt.ylim())])\n",
        "plt.xlabel('Epoch')\n",
        "plt.ylabel('Loss [CrossEntropy]')\n",
        "\n",
        "plt.subplot(1,2,2)\n",
        "plt.plot(history.epoch, 100*np.array(metrics['accuracy']), 100*np.array(metrics['val_accuracy']))\n",
        "plt.legend(['accuracy', 'val_accuracy'])\n",
        "plt.ylim([0, 100])\n",
        "plt.xlabel('Epoch')\n",
        "plt.ylabel('Accuracy [%]')"
      ]
    },
    {
      "cell_type": "markdown",
      "metadata": {
        "id": "5ZTt3kO3mfm4"
      },
      "source": [
        "## Evaluate the model performance\n",
        "\n",
        "Run the model on the test set and check the model's performance:"
      ]
    },
    {
      "cell_type": "code",
      "execution_count": 20,
      "metadata": {
        "id": "FapuRT_SsWGQ",
        "outputId": "deab2765-1890-4b67-e9c0-eb0ac95469e4",
        "colab": {
          "base_uri": "https://localhost:8080/"
        }
      },
      "outputs": [
        {
          "output_type": "stream",
          "name": "stdout",
          "text": [
            "13/13 [==============================] - 2s 164ms/step - loss: 0.4711 - accuracy: 0.8450\n"
          ]
        },
        {
          "output_type": "execute_result",
          "data": {
            "text/plain": [
              "{'loss': 0.47111907601356506, 'accuracy': 0.8449519276618958}"
            ]
          },
          "metadata": {},
          "execution_count": 20
        }
      ],
      "source": [
        "model.evaluate(test_spectrogram_ds, return_dict=True)"
      ]
    },
    {
      "cell_type": "markdown",
      "metadata": {
        "id": "en9Znt1NOabH"
      },
      "source": [
        "### Display a confusion matrix\n",
        "\n",
        "Use a [confusion matrix](https://developers.google.com/machine-learning/glossary#confusion-matrix) to check how well the model did classifying each of the recordings in the test set:\n"
      ]
    },
    {
      "cell_type": "code",
      "execution_count": 21,
      "metadata": {
        "id": "5Y6vmWWQuuT1",
        "outputId": "b862cc43-7197-456d-d22f-434b98f8040a",
        "colab": {
          "base_uri": "https://localhost:8080/"
        }
      },
      "outputs": [
        {
          "output_type": "stream",
          "name": "stdout",
          "text": [
            "13/13 [==============================] - 0s 6ms/step\n"
          ]
        }
      ],
      "source": [
        "y_pred = model.predict(test_spectrogram_ds)"
      ]
    },
    {
      "cell_type": "code",
      "execution_count": 22,
      "metadata": {
        "id": "d6F0il82u7lW"
      },
      "outputs": [],
      "source": [
        "y_pred = tf.argmax(y_pred, axis=1)"
      ]
    },
    {
      "cell_type": "code",
      "execution_count": 23,
      "metadata": {
        "id": "vHSNoBYLvX81"
      },
      "outputs": [],
      "source": [
        "y_true = tf.concat(list(test_spectrogram_ds.map(lambda s,lab: lab)), axis=0)"
      ]
    },
    {
      "cell_type": "code",
      "execution_count": 24,
      "metadata": {
        "id": "LvoSAOiXU3lL",
        "outputId": "5773ad31-340e-4fcc-f777-02aabfdcbcbf",
        "colab": {
          "base_uri": "https://localhost:8080/",
          "height": 696
        }
      },
      "outputs": [
        {
          "output_type": "display_data",
          "data": {
            "text/plain": [
              "<Figure size 1000x800 with 2 Axes>"
            ],
            "image/png": "[encoded data removed]"
          },
          "metadata": {}
        }
      ],
      "source": [
        "confusion_mtx = tf.math.confusion_matrix(y_true, y_pred)\n",
        "plt.figure(figsize=(10, 8))\n",
        "sns.heatmap(confusion_mtx,\n",
        "            xticklabels=label_names,\n",
        "            yticklabels=label_names,\n",
        "            annot=True, fmt='g')\n",
        "plt.xlabel('Prediction')\n",
        "plt.ylabel('Label')\n",
        "plt.show()"
      ]
    },
    {
      "cell_type": "markdown",
      "metadata": {
        "id": "mQGi_mzPcLvl"
      },
      "source": [
        "## Check trained model for sample audio\n",
        "\n",
        "Finally, verify the model's prediction output using an input audio file. How well does your model perform?"
      ]
    },
    {
      "cell_type": "code",
      "source": [
        "#provide link to your sample file\n",
        "x = data_dir/'yes/0137b3f4_nohash_2.wav'\n",
        "#x = data_dir/'right/012c8314_nohash_1.wav'"
      ],
      "metadata": {
        "id": "x4MQiAAlw1kX"
      },
      "execution_count": 30,
      "outputs": []
    },
    {
      "cell_type": "code",
      "execution_count": 31,
      "metadata": {
        "id": "zRxauKMdhofU",
        "outputId": "217d9202-dfba-4996-deaa-5d2c8295b82c",
        "colab": {
          "base_uri": "https://localhost:8080/",
          "height": 510
        }
      },
      "outputs": [
        {
          "output_type": "display_data",
          "data": {
            "text/plain": [
              "<Figure size 640x480 with 1 Axes>"
            ],
            "image/png": "[encoded data removed]"
          },
          "metadata": {}
        },
        {
          "output_type": "display_data",
          "data": {
            "text/plain": [
              "<IPython.lib.display.Audio object>"
            ],
            "text/html": [
              "\n",
              "                <audio  controls=\"controls\" >\n",
              "                    <source src=\"data:audio/wav;base64,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\" type=\"audio/wav\" />\n",
              "                    Your browser does not support the audio element.\n",
              "                </audio>\n",
              "              "
            ]
          },
          "metadata": {}
        }
      ],
      "source": [
        "x = tf.io.read_file(str(x))\n",
        "x, sample_rate = tf.audio.decode_wav(x, desired_channels=1, desired_samples=16000,)\n",
        "x = tf.squeeze(x, axis=-1)\n",
        "waveform = x\n",
        "x = get_spectrogram(x)\n",
        "x = x[tf.newaxis,...]\n",
        "\n",
        "prediction = model(x)\n",
        "#x_labels = ['no', 'yes', 'down', 'go', 'left', 'up', 'right', 'stop']\n",
        "x_labels = ['down', 'go', 'left', 'no', 'right', 'stop', 'up', 'yes']\n",
        "plt.bar(x_labels, tf.nn.softmax(prediction[0]))\n",
        "plt.title('Prediction')\n",
        "plt.show()\n",
        "\n",
        "display.display(display.Audio(waveform, rate=16000))"
      ]
    }
  ],
  "metadata": {
    "accelerator": "GPU",
    "colab": {
      "provenance": [],
      "include_colab_link": true
    },
    "kernelspec": {
      "display_name": "Python 3",
      "name": "python3"
    },
    "gpuClass": "standard"
  },
  "nbformat": 4,
  "nbformat_minor": 0
}