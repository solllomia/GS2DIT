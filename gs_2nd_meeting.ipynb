{
  "nbformat": 4,
  "nbformat_minor": 0,
  "metadata": {
    "colab": {
      "provenance": [],
      "toc_visible": true,
      "authorship_tag": "ABX9TyPupgTJgMHSTzLvl3zNLBxE",
      "include_colab_link": true
    },
    "kernelspec": {
      "name": "python3",
      "display_name": "Python 3"
    },
    "language_info": {
      "name": "python"
    },
    "accelerator": "GPU",
    "gpuClass": "standard"
  },
  "cells": [
    {
      "cell_type": "markdown",
      "metadata": {
        "id": "view-in-github",
        "colab_type": "text"
      },
      "source": [
        "<a href=\"https://colab.research.google.com/github/solllomia/GS2DIT/blob/modify_readme/gs_2nd_meeting.ipynb\" target=\"_parent\"><img src=\"https://colab.research.google.com/assets/colab-badge.svg\" alt=\"Open In Colab\"/></a>"
      ]
    },
    {
      "cell_type": "code",
      "execution_count": null,
      "metadata": {
        "id": "K5-6toA4JGre"
      },
      "outputs": [],
      "source": []
    },
    {
      "cell_type": "markdown",
      "source": [
        "#Section1"
      ],
      "metadata": {
        "id": "HMChaduIJjGg"
      }
    },
    {
      "cell_type": "code",
      "source": [
        "a=1"
      ],
      "metadata": {
        "id": "qiuyNYL8LosO"
      },
      "execution_count": 1,
      "outputs": []
    },
    {
      "cell_type": "code",
      "source": [
        "b=2"
      ],
      "metadata": {
        "id": "SkWtudubLojG"
      },
      "execution_count": 2,
      "outputs": []
    },
    {
      "cell_type": "code",
      "source": [
        "a+b"
      ],
      "metadata": {
        "colab": {
          "base_uri": "https://localhost:8080/"
        },
        "id": "Y87N4t19LoU2",
        "outputId": "f004c7de-b1a8-4017-cf91-7e01b0a77a73"
      },
      "execution_count": 3,
      "outputs": [
        {
          "output_type": "execute_result",
          "data": {
            "text/plain": [
              "3"
            ]
          },
          "metadata": {},
          "execution_count": 3
        }
      ]
    },
    {
      "cell_type": "markdown",
      "source": [
        "#Section2"
      ],
      "metadata": {
        "id": "ACuusvdqLi_H"
      }
    },
    {
      "cell_type": "markdown",
      "source": [
        "print (\"hello world\")**bold text**"
      ],
      "metadata": {
        "id": "5Yg0qCG_MeHh"
      }
    },
    {
      "cell_type": "markdown",
      "source": [
        "print (\"hello world\")*italicized text*"
      ],
      "metadata": {
        "id": "tuRm_EAkMduo"
      }
    },
    {
      "cell_type": "markdown",
      "source": [
        "print (\"hello world\")\n",
        "\n",
        "```\n",
        "# This is formatted as code\n",
        "```\n",
        "\n"
      ],
      "metadata": {
        "id": "_dyVelxcMdBJ"
      }
    }
  ]
}